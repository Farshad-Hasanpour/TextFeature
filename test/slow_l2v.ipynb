{
 "cells": [
  {
   "cell_type": "code",
   "execution_count": 40,
   "metadata": {},
   "outputs": [],
   "source": [
    "from gensim.models import KeyedVectors\n",
    "import nltk\n",
    "import numpy as np\n",
    "import pandas as pd\n",
    "import time"
   ]
  },
  {
   "cell_type": "code",
   "execution_count": 16,
   "metadata": {},
   "outputs": [],
   "source": [
    "lexicons = {}\n",
    "\n",
    "ADDR = '../../cross-stitch/resource/NRC-Lexicon-v0.92-english.csv'\n",
    "lexicons['nrc0'] = pd.read_csv(ADDR, engine='c', encoding='utf-8', index_col=0).T.to_dict('list')"
   ]
  },
  {
   "cell_type": "code",
   "execution_count": 92,
   "metadata": {},
   "outputs": [],
   "source": [
    "def text_l2v(word_tokens, lexicon_name, vector_size):\n",
    "\n",
    "    try:\n",
    "        lexicon = lexicons[lexicon_name]\n",
    "    except Exception as e:\n",
    "        print('This instance of class doesn\\'t use ' + lexicon_name)\n",
    "        return False\n",
    "    # List of words in lexicon\n",
    "    # calculate average of vectors for each word that exists in both text and lexicon. Other words are ignored\n",
    "    vector_sum = np.array([0] * vector_size)\n",
    "    number_of_words = 0\n",
    "    stemmer = nltk.stem.PorterStemmer()\n",
    "    for word in word_tokens:\n",
    "        word = stemmer.stem(word)\n",
    "        if word in lexicon:\n",
    "            vector_sum = vector_sum + np.array(lexicon[word][0:vector_size])\n",
    "            number_of_words = number_of_words + 1\n",
    "        break\n",
    "    # If there is at least 1 word in text return the result\n",
    "    if number_of_words == 0:\n",
    "        return False\n",
    "    return vector_sum / number_of_words"
   ]
  },
  {
   "cell_type": "code",
   "execution_count": 94,
   "metadata": {},
   "outputs": [
    {
     "name": "stdout",
     "output_type": "stream",
     "text": [
      "0.0\n"
     ]
    }
   ],
   "source": [
    "TEXT = '\"I am not one of the members of the Senate who shuts down, does this or does that and keeps people for weekends, I don\\'t do that,\" Sanders said on the Senate floor ahead of the voice vote.'\n",
    "word_tokens = nltk.word_tokenize(TEXT)\n",
    "time1 = time.time()\n",
    "text_l2v(word_tokens, 'nrc0', 10)\n",
    "time2 = time.time()\n",
    "print(time2 - time1)\n"
   ]
  }
 ],
 "metadata": {
  "kernelspec": {
   "display_name": "Python 3",
   "language": "python",
   "name": "python3"
  },
  "language_info": {
   "codemirror_mode": {
    "name": "ipython",
    "version": 3
   },
   "file_extension": ".py",
   "mimetype": "text/x-python",
   "name": "python",
   "nbconvert_exporter": "python",
   "pygments_lexer": "ipython3",
   "version": "3.7.9"
  }
 },
 "nbformat": 4,
 "nbformat_minor": 2
}
